{
 "cells": [
  {
   "cell_type": "markdown",
   "metadata": {
    "collapsed": true
   },
   "source": [
    "# Feature Engineering and Classification"
   ]
  },
  {
   "cell_type": "markdown",
   "metadata": {},
   "source": [
    "## Explore data"
   ]
  },
  {
   "cell_type": "code",
   "execution_count": 101,
   "metadata": {
    "collapsed": false
   },
   "outputs": [
    {
     "name": "stdout",
     "output_type": "stream",
     "text": [
      "Data loaded successfully\n",
      "       name          Fb       a     Ap0     Ap1  Ap2    T0p0    T0p1  T0p2  \\\n",
      "0  s17_an_2  118.649590  2.1579  0.0211  0.3876  NaN  0.5800  2.7733   NaN   \n",
      "1  s17_an_3  141.798721  1.6316  0.1423     NaN  NaN  0.1500     NaN   NaN   \n",
      "2  s28_ha_2  256.279205  1.3158  0.5188     NaN  NaN -0.1400     NaN   NaN   \n",
      "3  s28_ha_3  154.309219  2.0526  0.7094     NaN  NaN -0.1700     NaN   NaN   \n",
      "4  s28_ha_4  116.936386  2.8947  0.6718     NaN  NaN  0.1345     NaN   NaN   \n",
      "5  s28_ha_5  180.134308  3.0000  0.5046     NaN  NaN  0.2167     NaN   NaN   \n",
      "6  s17_an_4  129.622879  2.7895  0.0055  0.2703  NaN -0.3000  1.1858   NaN   \n",
      "7  s17_an_5  124.891998  3.0000  0.0000  0.1536  NaN -0.0600  0.9396   NaN   \n",
      "8  s31_ha_2  203.911011  3.0000  0.1322  0.0586  NaN  0.6867  2.8767   NaN   \n",
      "9  s31_ha_3  186.932251  2.7895  0.0809  0.0938  NaN  1.2300  2.6715   NaN   \n",
      "\n",
      "      Aa0  ...      T2a2    T2a3    T2a4    T2a5    T2a6    T2a7  T2a8  T2a9  \\\n",
      "0  0.1942  ...    2.1700  2.5275  2.7750  3.7097  3.8325  4.0671   NaN   NaN   \n",
      "1  0.3880  ...    1.3872  1.9475  2.3300     NaN     NaN     NaN   NaN   NaN   \n",
      "2  0.1985  ...    1.1800  1.7675  1.9500     NaN     NaN     NaN   NaN   NaN   \n",
      "3  0.0813  ...    1.1699  1.4146  1.6786     NaN     NaN     NaN   NaN   NaN   \n",
      "4  0.3225  ...    1.2300     NaN     NaN     NaN     NaN     NaN   NaN   NaN   \n",
      "5  0.3530  ...    1.1400     NaN     NaN     NaN     NaN     NaN   NaN   NaN   \n",
      "6  0.3514  ...    1.7225  1.8669  2.2301  2.5263  2.6387     NaN   NaN   NaN   \n",
      "7  0.3245  ...    1.1669  1.3650  1.6113  2.1095  2.4963  2.7338  3.22   NaN   \n",
      "8  0.1543  ...    1.8800  2.7475  3.0375  3.3225  3.5100  3.7325   NaN   NaN   \n",
      "9  0.0360  ...    2.9238  3.2637  3.5216     NaN     NaN     NaN   NaN   NaN   \n",
      "\n",
      "   T2a10  T2a11  \n",
      "0    NaN    NaN  \n",
      "1    NaN    NaN  \n",
      "2    NaN    NaN  \n",
      "3    NaN    NaN  \n",
      "4    NaN    NaN  \n",
      "5    NaN    NaN  \n",
      "6    NaN    NaN  \n",
      "7    NaN    NaN  \n",
      "8    NaN    NaN  \n",
      "9    NaN    NaN  \n",
      "\n",
      "[10 rows x 45 columns]\n"
     ]
    }
   ],
   "source": [
    "import pandas as pd\n",
    "import utils\n",
    "directory = r'C:\\Users\\s3628075\\Study\\Fujisaki\\DataBase\\enterface\\All/'\n",
    "data = pd.DataFrame(utils.load_obj(directory+'fuj_params_data.pkl'))\n",
    "print 'Data loaded successfully'\n",
    "print data.head(10)"
   ]
  },
  {
   "cell_type": "markdown",
   "metadata": {},
   "source": [
    "As we can see our data is significantly sparse (a lot of missing data)"
   ]
  },
  {
   "cell_type": "markdown",
   "metadata": {},
   "source": [
    "## Filter data (throw away non-significant features)"
   ]
  },
  {
   "cell_type": "code",
   "execution_count": 102,
   "metadata": {
    "collapsed": false
   },
   "outputs": [
    {
     "name": "stdout",
     "output_type": "stream",
     "text": [
      "Selected Features:  ['Aa0', 'Aa2', 'Aa3', 'Aa1', 'Aa4', 'Fb', 'Aa5', 'Ap0', 'T2a3', 'T1a3', 'T2a2', 'T2a4', 'T2a6', 'T2a0']\n",
      "\n",
      "Filtered Data:\n",
      "\n",
      "      Aa0     Aa2     Aa3     Aa1     Aa4          Fb     Aa5     Ap0    T2a3  \\\n",
      "0  0.1942 -0.0562  0.1745  0.3262  0.2202  118.649590  0.2822  0.0211  2.5275   \n",
      "1  0.3880  0.3880 -0.1187  0.1876  0.2485  141.798721     NaN  0.1423  1.9475   \n",
      "2  0.1985  0.1985  0.3110  0.1753  0.2343  256.279205     NaN  0.5188  1.7675   \n",
      "3  0.0813  0.5476  0.5281  0.5925  0.3185  154.309219     NaN  0.7094  1.4146   \n",
      "4  0.3225  0.6153     NaN  0.3465     NaN  116.936386     NaN  0.6718     NaN   \n",
      "5  0.3530  0.3654     NaN  0.6187     NaN  180.134308     NaN  0.5046     NaN   \n",
      "6  0.3514  0.0711  0.0801  0.3513  0.2907  129.622879  0.6366  0.0055  1.8669   \n",
      "7  0.3245  0.1576  0.1698  0.2426  0.3171  124.891998  0.2355  0.0000  1.3650   \n",
      "8  0.1543  0.2398  0.0892  0.1358  0.1765  203.911011  0.0678  0.1322  2.7475   \n",
      "9  0.0360  0.1060  0.2097 -0.1156  0.1536  186.932251     NaN  0.0809  3.2637   \n",
      "\n",
      "     T1a3    T2a2    T2a4    T2a6    T2a0      name  \n",
      "0  2.3677  2.1700  2.7750  3.8325  1.4211  s17_an_2  \n",
      "1  1.4472  1.3872  2.3300     NaN  0.7765  s17_an_3  \n",
      "2  1.6100  1.1800  1.9500     NaN  0.5900  s28_ha_2  \n",
      "3  1.1836  1.1699  1.6786     NaN  0.3950  s28_ha_3  \n",
      "4     NaN  1.2300     NaN     NaN  0.6550  s28_ha_4  \n",
      "5     NaN  1.1400     NaN     NaN  0.7688  s28_ha_5  \n",
      "6  1.7872  1.7225  2.2301  2.6387  0.7788  s17_an_4  \n",
      "7  1.1906  1.1669  1.6113  2.4963  0.6541  s17_an_5  \n",
      "8  2.6400  1.8800  3.0375  3.5100  1.2500  s31_ha_2  \n",
      "9  3.0501  2.9238  3.5216     NaN  1.8188  s31_ha_3  \n"
     ]
    }
   ],
   "source": [
    "import stat_utils as st\n",
    "anova = st.calc_anova(directory, verbose=False)\n",
    "\n",
    "import operator\n",
    "import matplotlib.pyplot as plt\n",
    "params, anova_res = zip(*sorted(anova.items(), key=operator.itemgetter(1)))\n",
    "\n",
    "thresh = 0.05\n",
    "# take those parameters with p-values less than thresh=0.05\n",
    "Idx = [ind for ind in range(len(anova_res)) if anova_res[ind] < thresh]\n",
    "selected_features = [params[i] for i in Idx]\n",
    "print 'Selected Features: ', selected_features\n",
    "\n",
    "filtered_data = data[selected_features+['name']]\n",
    "print '\\nFiltered Data:\\n\\n',filtered_data.head(10)"
   ]
  },
  {
   "cell_type": "markdown",
   "metadata": {},
   "source": [
    "## Explore sparsness of filtered data"
   ]
  },
  {
   "cell_type": "code",
   "execution_count": 103,
   "metadata": {
    "collapsed": false
   },
   "outputs": [
    {
     "data": {
      "image/png": "[encoded data removed]",
      "text/plain": [
       "<matplotlib.figure.Figure at 0xb7861d0>"
      ]
     },
     "metadata": {},
     "output_type": "display_data"
    }
   ],
   "source": [
    "import pandas as pd\n",
    "import operator\n",
    "import numpy as np\n",
    "%matplotlib inline\n",
    "nan_fraction = {}\n",
    "for c in list(filtered_data):\n",
    "    nan_idx = pd.isnull(data[c])\n",
    "    nan_fraction[c]=float(sum(nan_idx))/len(filtered_data)\n",
    "params, fractions = zip(*sorted(nan_fraction.items(), key=operator.itemgetter(1)))\n",
    "# take first 30 parameters\n",
    "split = len(list(filtered_data))\n",
    "left = np.arange(split)\n",
    "fig, ax = plt.subplots(figsize=(18,5))\n",
    "width = 0.5\n",
    "ax.bar(left, fractions[:split], width, alpha = 0.3)\n",
    "# add some text for labels, title and axes ticks\n",
    "ax.set_ylabel('Sparsness')\n",
    "ax.set_title('Sparsness of data by significant features')\n",
    "ax.set_xticks(left + width / 2)\n",
    "ax.set_xticklabels(params[:split])\n",
    "plt.show()"
   ]
  },
  {
   "cell_type": "markdown",
   "metadata": {},
   "source": [
    "## Handling missing data"
   ]
  },
  {
   "cell_type": "code",
   "execution_count": 104,
   "metadata": {
    "collapsed": false
   },
   "outputs": [],
   "source": [
    "data = filtered_data\n",
    "names = data.pop('name')"
   ]
  },
  {
   "cell_type": "markdown",
   "metadata": {},
   "source": [
    "### Removing feature/data trade-off"
   ]
  },
  {
   "cell_type": "code",
   "execution_count": 105,
   "metadata": {
    "collapsed": false
   },
   "outputs": [
    {
     "name": "stdout",
     "output_type": "stream",
     "text": [
      "Num of data points left:  992\n",
      "Features left:  ['Aa0', 'Aa2', 'Aa1', 'Fb', 'Ap0', 'T2a2', 'T2a0']\n",
      "         Aa0     Aa2     Aa1          Fb     Ap0    T2a2    T2a0\n",
      "0     0.1942 -0.0562  0.3262  118.649590  0.0211  2.1700  1.4211\n",
      "1     0.3880  0.3880  0.1876  141.798721  0.1423  1.3872  0.7765\n",
      "2     0.1985  0.1985  0.1753  256.279205  0.5188  1.1800  0.5900\n",
      "3     0.0813  0.5476  0.5925  154.309219  0.7094  1.1699  0.3950\n",
      "4     0.3225  0.6153  0.3465  116.936386  0.6718  1.2300  0.6550\n",
      "5     0.3530  0.3654  0.6187  180.134308  0.5046  1.1400  0.7688\n",
      "6     0.3514  0.0711  0.3513  129.622879  0.0055  1.7225  0.7788\n",
      "7     0.3245  0.1576  0.2426  124.891998  0.0000  1.1669  0.6541\n",
      "8     0.1543  0.2398  0.1358  203.911011  0.1322  1.8800  1.2500\n",
      "9     0.0360  0.1060 -0.1156  186.932251  0.0809  2.9238  1.8188\n",
      "11    0.7359  0.6639  0.4455  104.651596  0.9063  1.9569  0.9308\n",
      "12    0.7377  0.8523  0.4143  119.796478  0.6000  1.8998  1.1233\n",
      "13    0.6195  0.2125  0.2503  122.948982  0.8672  1.7550  0.6340\n",
      "14    0.1328  0.1852 -0.0938  179.833755  0.2625  1.6075  0.8462\n",
      "15    0.2283  0.7542  0.5899   90.475601  0.0547  1.8985  0.5282\n",
      "17    0.4422  0.2809  0.3914  113.066681  0.1406  2.4362  1.6475\n",
      "20    0.1567  0.6461  0.4274  108.820961  0.3985  1.6731  0.8337\n",
      "21    0.5391  0.9125  0.8316  108.112900  0.2149  2.7007  1.7141\n",
      "22    0.5345  0.2721  0.4333   82.148911  0.5874  2.1500  1.6262\n",
      "23    0.5224  0.2492  0.2108  130.005356  0.1418  2.5038  0.9098\n",
      "24    0.7890  0.6101  0.6592   89.628273  0.0625  1.7791  0.9631\n",
      "25    0.9176  0.3783  0.4214  119.618607  0.0345  1.6848  1.1837\n",
      "26    0.0656  0.2564  0.2386  145.302032  0.8969  1.5325  1.0769\n",
      "27    0.1460  0.3051  0.2410  115.042015  1.2562  1.8172  1.4913\n",
      "28    0.1497  0.3696  0.3056  115.946075  0.1046  1.1694  0.7075\n",
      "29    0.7542  0.6683  0.5854   97.512856  0.4938  1.6038  0.7542\n",
      "30    0.1892 -0.0250  0.0735  203.623505  0.1891  2.1200  1.0450\n",
      "32    0.1141  0.5839  0.3249  118.642464  1.6719  1.8950  0.8888\n",
      "33    0.2433 -0.1312  0.1158  270.045593  0.2625  1.1650  0.4863\n",
      "34    0.2971  0.1546  0.3994  116.937553  0.4094  0.8175  0.3500\n",
      "...      ...     ...     ...         ...     ...     ...     ...\n",
      "1127  0.4380  0.7685  0.7202   84.263275  0.2015  1.8260  1.1020\n",
      "1128  0.3372  0.9049  0.3993  140.956253  0.2632  1.6788  1.0328\n",
      "1129  0.4054  0.4992  0.9846  137.007263  0.2682  1.4640  0.6923\n",
      "1130  0.2552  0.1159  0.2980  109.877602  0.1625  2.2375  1.1137\n",
      "1131  0.3672  0.8969  0.7842  115.557228  0.0169  1.5394  1.0405\n",
      "1132  0.1686  0.3800  0.1476  181.871780  0.5985  2.5042  1.2284\n",
      "1133  0.2830  0.7746  0.4198  118.479927  0.9621  1.5944  1.1131\n",
      "1134  0.2459  0.6141  0.4077   69.036797  0.4656  1.5800  0.8300\n",
      "1135  0.1648  0.2847  0.0837   95.602074  0.1750  0.9163  0.3862\n",
      "1136  0.2457  0.4504  0.2899  120.592323  0.5125  1.6400  0.6400\n",
      "1137  0.2502  0.2836  0.2408  136.382370  0.2344  1.3475  0.4925\n",
      "1138  0.3517  0.4139  0.3000  122.453300  0.2437  1.7050  0.8250\n",
      "1139  0.2450  0.1309  0.6869  114.856697  0.2688  1.1225  0.1000\n",
      "1140  0.5503  0.7083  0.5050  106.771545  0.4656  1.7632  0.9712\n",
      "1141  0.3228  0.5084  0.3616  146.643814  0.1125  1.6851  1.0275\n",
      "1142  0.7504  0.6555  1.0535  118.808228  0.4812  1.1575  0.4882\n",
      "1143  0.7190  0.5468  0.6785   97.538338  0.2375  1.8791  0.6434\n",
      "1145  0.1326  0.2613  0.6336   86.142319  0.5071  1.5800  0.9200\n",
      "1146  0.3556  0.4754  0.3495  118.304581  0.3234  1.8100  1.1425\n",
      "1147  0.5029  1.2144  0.3969  111.748566  0.4094  1.6422  0.8456\n",
      "1148 -0.2782  0.4987  0.4394  105.532150  0.5688  1.6704  0.9450\n",
      "1149  0.3325  0.1835  0.4543  115.057327  0.0344  2.0893  1.5479\n",
      "1150  0.2169  0.4985  0.5694   99.928268  0.1719  1.4350  0.8275\n",
      "1152  0.1297  0.3638  0.2388  187.337189  0.4875  1.6056  0.8231\n",
      "1153  0.1753  0.1060  0.1148  180.460999  0.1187  1.5500  0.9100\n",
      "1156  0.1254  0.0470  0.1404  100.860420  0.0093  3.2875  1.2675\n",
      "1157  0.4227 -0.5375  0.3454  109.591805  1.3812  1.4400  0.8252\n",
      "1158  0.3396 -0.3719  0.3112   82.532822  1.1766  1.5700  1.0433\n",
      "1159  0.1015  0.1357  0.0997  103.772392  0.2094  2.5325  1.9588\n",
      "1160  0.8582  0.5000  0.7993  145.632843  0.3500  1.6513  1.2450\n",
      "\n",
      "[992 rows x 7 columns]\n"
     ]
    }
   ],
   "source": [
    "filtered_data = data\n",
    "# Goal is to get rid of missing data by removing rows or cols\n",
    "# Still want to maximize amount of data left\n",
    "# iterate through features and find the loss of removing column vs removing all rows where this feature is missed \n",
    "for c in list(filtered_data):\n",
    "    nan_idx = pd.isnull(filtered_data[c])\n",
    "    loss_col = sum(pd.notnull(filtered_data[c]))\n",
    "    if loss_col == len(filtered_data):\n",
    "        continue\n",
    "#   calc loss of removing all rows with missing data in this feature\n",
    "    loss_rows = sum(sum(pd.notnull(filtered_data[nan_idx].values)))\n",
    "    if loss_col < loss_rows:\n",
    "        del filtered_data[c]\n",
    "    else:\n",
    "        filtered_data = filtered_data[filtered_data[c].notnull()]\n",
    "print 'Num of data points left: ',len(filtered_data)\n",
    "print 'Features left: ', list(filtered_data)\n",
    "print filtered_data\n",
    "i, _ = zip(*filtered_data.iterrows())\n",
    "filtered_names = [names[idx] for idx in i]"
   ]
  },
  {
   "cell_type": "markdown",
   "metadata": {
    "collapsed": true
   },
   "source": [
    "### Imputation of missing data with mean values"
   ]
  },
  {
   "cell_type": "code",
   "execution_count": 106,
   "metadata": {
    "collapsed": false
   },
   "outputs": [
    {
     "name": "stdout",
     "output_type": "stream",
     "text": [
      "         Aa0       Aa2       Aa3       Aa1       Aa4          Fb       Aa5  \\\n",
      "0     0.1942 -0.056200  0.174500  0.326200  0.220200  118.649590  0.282200   \n",
      "1     0.3880  0.388000 -0.118700  0.187600  0.248500  141.798721  0.283376   \n",
      "2     0.1985  0.198500  0.311000  0.175300  0.234300  256.279205  0.283376   \n",
      "3     0.0813  0.547600  0.528100  0.592500  0.318500  154.309219  0.283376   \n",
      "4     0.3225  0.615300  0.654608  0.346500  0.463394  116.936386  0.283376   \n",
      "5     0.3530  0.365400  0.654608  0.618700  0.463394  180.134308  0.283376   \n",
      "6     0.3514  0.071100  0.080100  0.351300  0.290700  129.622879  0.636600   \n",
      "7     0.3245  0.157600  0.169800  0.242600  0.317100  124.891998  0.235500   \n",
      "8     0.1543  0.239800  0.089200  0.135800  0.176500  203.911011  0.067800   \n",
      "9     0.0360  0.106000  0.209700 -0.115600  0.153600  186.932251  0.283376   \n",
      "10    0.5894  0.854436  0.654608  0.376000  0.463394  182.919800  0.283376   \n",
      "11    0.7359  0.663900  0.671800  0.445500  0.463394  104.651596  0.283376   \n",
      "12    0.7377  0.852300  0.654608  0.414300  0.463394  119.796478  0.283376   \n",
      "13    0.6195  0.212500  0.287200  0.250300  0.226400  122.948982  0.283376   \n",
      "14    0.1328  0.185200  0.162700 -0.093800  0.210400  179.833755  0.174000   \n",
      "15    0.2283  0.754200  0.465600  0.589900  0.463394   90.475601  0.283376   \n",
      "16    0.5185  0.854436  0.654608  0.564600  0.463394   98.951775  0.283376   \n",
      "17    0.4422  0.280900  0.172100  0.391400  0.640000  113.066681  0.283376   \n",
      "18    0.4910  0.854436  0.654608  0.279500  0.463394  109.757790  0.283376   \n",
      "19    0.5142  0.854436  0.654608  0.522300  0.463394  119.246048  0.283376   \n",
      "20    0.1567  0.646100  0.654608  0.427400  0.463394  108.820961  0.283376   \n",
      "21    0.5391  0.912500  0.654608  0.831600  0.463394  108.112900  0.283376   \n",
      "22    0.5345  0.272100  0.846300  0.433300  0.463394   82.148911  0.283376   \n",
      "23    0.5224  0.249200  0.370000  0.210800  0.279800  130.005356  0.438200   \n",
      "24    0.7890  0.610100  0.759200  0.659200  0.335600   89.628273  0.173100   \n",
      "25    0.9176  0.378300  0.323700  0.421400  0.278000  119.618607  0.307200   \n",
      "26    0.0656  0.256400  0.358700  0.238600  0.425800  145.302032  0.525800   \n",
      "27    0.1460  0.305100  0.348500  0.241000  0.458700  115.042015  0.439000   \n",
      "28    0.1497  0.369600  0.346600  0.305600  0.352800  115.946075  0.283376   \n",
      "29    0.7542  0.668300  0.654608  0.585400  0.463394   97.512856  0.283376   \n",
      "...      ...       ...       ...       ...       ...         ...       ...   \n",
      "1131  0.3672  0.896900  0.848200  0.784200  1.180200  115.557228  0.816600   \n",
      "1132  0.1686  0.380000  0.387300  0.147600  0.396900  181.871780  0.394900   \n",
      "1133  0.2830  0.774600  0.878700  0.419800  0.757900  118.479927  0.642800   \n",
      "1134  0.2459  0.614100  0.654608  0.407700  0.463394   69.036797  0.283376   \n",
      "1135  0.1648  0.284700 -0.168800  0.083700  0.108000   95.602074  0.144600   \n",
      "1136  0.2457  0.450400  0.654608  0.289900  0.463394  120.592323  0.283376   \n",
      "1137  0.2502  0.283600  0.420000  0.240800  0.463394  136.382370  0.283376   \n",
      "1138  0.3517  0.413900  0.654608  0.300000  0.463394  122.453300  0.283376   \n",
      "1139  0.2450  0.130900  0.787500  0.686900  0.463394  114.856697  0.283376   \n",
      "1140  0.5503  0.708300  0.503200  0.505000  0.559500  106.771545  0.584500   \n",
      "1141  0.3228  0.508400  0.593500  0.361600  0.463394  146.643814  0.283376   \n",
      "1142  0.7504  0.655500  0.654608  1.053500  0.463394  118.808228  0.283376   \n",
      "1143  0.7190  0.546800  0.760200  0.678500  0.237200   97.538338  0.283376   \n",
      "1144  0.5588  0.854436  0.654608  0.964686  0.463394   97.645325  0.283376   \n",
      "1145  0.1326  0.261300  0.728900  0.633600  0.300000   86.142319  0.361700   \n",
      "1146  0.3556  0.475400  0.654608  0.349500  0.463394  118.304581  0.283376   \n",
      "1147  0.5029  1.214400  0.843400  0.396900  0.731000  111.748566  0.827300   \n",
      "1148 -0.2782  0.498700  0.525800  0.439400  0.642700  105.532150  0.283376   \n",
      "1149  0.3325  0.183500  0.118500  0.454300  0.463394  115.057327  0.283376   \n",
      "1150  0.2169  0.498500  0.654608  0.569400  0.463394   99.928268  0.283376   \n",
      "1151  0.2649  0.854436  0.654608  0.850400  0.463394  126.344780  0.283376   \n",
      "1152  0.1297  0.363800  0.339600  0.238800  0.230300  187.337189  0.164300   \n",
      "1153  0.1753  0.106000  0.057400  0.114800  0.095600  180.460999  0.283376   \n",
      "1154  0.2831  0.854436  0.654608  0.964686  0.463394   93.433327  0.283376   \n",
      "1155  0.1575  0.854436  0.654608  0.964686  0.463394  102.599655  0.283376   \n",
      "1156  0.1254  0.047000  0.654608  0.140400  0.463394  100.860420  0.283376   \n",
      "1157  0.4227 -0.537500  0.654608  0.345400  0.463394  109.591805  0.283376   \n",
      "1158  0.3396 -0.371900  0.654608  0.311200  0.463394   82.532822  0.283376   \n",
      "1159  0.1015  0.135700 -0.062500  0.099700  0.048900  103.772392  0.283376   \n",
      "1160  0.8582  0.500000  0.495400  0.799300  0.388600  145.632843  0.538500   \n",
      "\n",
      "         Ap0      T2a3      T1a3      T2a2      T2a4      T2a6    T2a0  \n",
      "0     0.0211  2.527500  2.367700  2.170000  2.775000  3.832500  1.4211  \n",
      "1     0.1423  1.947500  1.447200  1.387200  2.330000  0.152455  0.7765  \n",
      "2     0.5188  1.767500  1.610000  1.180000  1.950000  0.152455  0.5900  \n",
      "3     0.7094  1.414600  1.183600  1.169900  1.678600  0.152455  0.3950  \n",
      "4     0.6718  0.654608  0.654608  1.230000  0.463394  0.152455  0.6550  \n",
      "5     0.5046  0.654608  0.654608  1.140000  0.463394  0.152455  0.7688  \n",
      "6     0.0055  1.866900  1.787200  1.722500  2.230100  2.638700  0.7788  \n",
      "7     0.0000  1.365000  1.190600  1.166900  1.611300  2.496300  0.6541  \n",
      "8     0.1322  2.747500  2.640000  1.880000  3.037500  3.510000  1.2500  \n",
      "9     0.0809  3.263700  3.050100  2.923800  3.521600  0.152455  1.8188  \n",
      "10    0.0609  0.654608  0.654608  0.854436  0.463394  0.152455  0.7338  \n",
      "11    0.9063  2.148800  1.966700  1.956900  0.463394  0.152455  0.9308  \n",
      "12    0.6000  0.654608  0.654608  1.899800  0.463394  0.152455  1.1233  \n",
      "13    0.8672  2.065900  1.795000  1.755000  2.465000  0.152455  0.6340  \n",
      "14    0.2625  1.882500  1.771200  1.607500  2.250000  0.152455  0.8462  \n",
      "15    0.0547  2.152200  2.006300  1.898500  0.463394  0.152455  0.5282  \n",
      "16    0.3500  0.654608  0.654608  0.854436  0.463394  0.152455  1.0180  \n",
      "17    0.1406  2.608800  2.512500  2.436200  3.156300  0.152455  1.6475  \n",
      "18    0.0000  0.654608  0.654608  0.854436  0.463394  0.152455  1.7447  \n",
      "19    0.2434  0.654608  0.654608  0.854436  0.463394  0.152455  1.6125  \n",
      "20    0.3985  0.654608  0.654608  1.673100  0.463394  0.152455  0.8337  \n",
      "21    0.2149  0.654608  0.654608  2.700700  0.463394  0.152455  1.7141  \n",
      "22    0.5874  2.372500  2.150000  2.150000  0.463394  0.152455  1.6262  \n",
      "23    0.1418  3.061100  2.883500  2.503800  3.517800  4.167500  0.9098  \n",
      "24    0.0625  2.004300  1.802700  1.779100  2.309700  0.152455  0.9631  \n",
      "25    0.0345  1.968500  1.699100  1.684800  2.135600  3.177000  1.1837  \n",
      "26    0.8969  2.027500  1.555000  1.532500  2.477500  2.990000  1.0769  \n",
      "27    1.2562  1.943800  1.817800  1.817200  2.206100  2.656300  1.4913  \n",
      "28    0.1046  1.357500  1.179400  1.169400  2.210000  0.152455  0.7075  \n",
      "29    0.4938  0.654608  0.654608  1.603800  0.463394  0.152455  0.7542  \n",
      "...      ...       ...       ...       ...       ...       ...     ...  \n",
      "1131  0.0169  1.735000  1.539400  1.539400  1.907500  0.152455  1.0405  \n",
      "1132  0.5985  2.737200  2.523100  2.504200  2.830200  0.152455  1.2284  \n",
      "1133  0.9621  1.805100  1.674700  1.594400  1.997500  0.152455  1.1131  \n",
      "1134  0.4656  0.654608  0.654608  1.580000  0.463394  0.152455  0.8300  \n",
      "1135  0.1750  1.090000  0.945000  0.916300  2.055000  2.705000  0.3862  \n",
      "1136  0.5125  0.654608  0.654608  1.640000  0.463394  0.152455  0.6400  \n",
      "1137  0.2344  1.530000  1.373700  1.347500  0.463394  0.152455  0.4925  \n",
      "1138  0.2437  0.654608  0.654608  1.705000  0.463394  0.152455  0.8250  \n",
      "1139  0.2688  1.251300  1.122500  1.122500  0.463394  0.152455  0.1000  \n",
      "1140  0.4656  1.935000  1.801300  1.763200  2.240600  0.152455  0.9712  \n",
      "1141  0.1125  2.105700  1.876900  1.685100  0.463394  0.152455  1.0275  \n",
      "1142  0.4812  0.654608  0.654608  1.157500  0.463394  0.152455  0.4882  \n",
      "1143  0.2375  2.052300  1.923800  1.879100  2.267500  0.152455  0.6434  \n",
      "1144  0.2875  0.654608  0.654608  0.854436  0.463394  0.152455  1.8088  \n",
      "1145  0.5071  1.771800  1.599700  1.580000  2.096900  2.560000  0.9200  \n",
      "1146  0.3234  0.654608  0.654608  1.810000  0.463394  0.152455  1.1425  \n",
      "1147  0.4094  1.777700  1.660000  1.642200  1.916900  2.326600  0.8456  \n",
      "1148  0.5688  1.775600  1.685900  1.670400  2.600000  0.152455  0.9450  \n",
      "1149  0.0344  2.422800  2.167500  2.089300  0.463394  0.152455  1.5479  \n",
      "1150  0.1719  0.654608  0.654608  1.435000  0.463394  0.152455  0.8275  \n",
      "1151  0.2008  0.654608  0.654608  0.854436  0.463394  0.152455  1.1900  \n",
      "1152  0.4875  1.997500  1.687500  1.605600  2.331200  0.152455  0.8231  \n",
      "1153  0.1187  1.770000  1.575000  1.550000  2.300000  0.152455  0.9100  \n",
      "1154  0.1469  0.654608  0.654608  0.854436  0.463394  0.152455  0.9400  \n",
      "1155  0.0304  0.654608  0.654608  0.854436  0.463394  0.152455  2.4800  \n",
      "1156  0.0093  0.654608  0.654608  3.287500  0.463394  0.152455  1.2675  \n",
      "1157  1.3812  0.654608  0.654608  1.440000  0.463394  0.152455  0.8252  \n",
      "1158  1.1766  0.654608  0.654608  1.570000  0.463394  0.152455  1.0433  \n",
      "1159  0.2094  2.860000  2.560000  2.532500  3.202500  0.152455  1.9588  \n",
      "1160  0.3500  1.961600  1.702800  1.651300  2.223500  2.820000  1.2450  \n",
      "\n",
      "[1161 rows x 14 columns]\n"
     ]
    }
   ],
   "source": [
    "imp_data = data\n",
    "for c in list(imp_data):\n",
    "    \n",
    "    nan_idx = pd.isnull(imp_data[c])\n",
    "    m = imp_data[c].notnull().mean()\n",
    "    imp_data[c][nan_idx]=m\n",
    "print imp_data\n",
    "imp_names = names"
   ]
  },
  {
   "cell_type": "markdown",
   "metadata": {},
   "source": [
    "## Classification"
   ]
  },
  {
   "cell_type": "code",
   "execution_count": null,
   "metadata": {
    "collapsed": true
   },
   "outputs": [],
   "source": []
  }
 ],
 "metadata": {
  "kernelspec": {
   "display_name": "Python 2",
   "language": "python",
   "name": "python2"
  },
  "language_info": {
   "codemirror_mode": {
    "name": "ipython",
    "version": 2
   },
   "file_extension": ".py",
   "mimetype": "text/x-python",
   "name": "python",
   "nbconvert_exporter": "python",
   "pygments_lexer": "ipython2",
   "version": "2.7.13"
  }
 },
 "nbformat": 4,
 "nbformat_minor": 0
}
