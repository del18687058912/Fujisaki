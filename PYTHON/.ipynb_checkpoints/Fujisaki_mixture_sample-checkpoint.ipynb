{
 "cells": [
  {
   "cell_type": "markdown",
   "metadata": {},
   "source": [
    "# Fujisaki curve"
   ]
  },
  {
   "cell_type": "markdown",
   "metadata": {},
   "source": [
    "## create vector of parameters, based on radom disctribution"
   ]
  },
  {
   "cell_type": "code",
   "execution_count": 1,
   "metadata": {
    "collapsed": true
   },
   "outputs": [
    {
     "name": "stdout",
     "output_type": "stream",
     "text": [
      "Fujisaki parameters:\n",
      "Fb = 35.8979433286\n",
      "a = 0.929158289511\n",
      "b = 1.78806667741\n",
      "y = 0.608853581701\n",
      "I = 7\n",
      "Ap = [ 0.20011163 -0.3189426  -0.15010626 -0.48692974  0.0732133  -0.16416649\n",
      " -0.21040146]\n",
      "T0p = [ 0.03801116  0.26775698  0.28133629  0.61619121  0.64329088  0.69443884\n",
      "  0.8436923 ]\n",
      "J = 5\n",
      "Aa = [ 0.49585989 -0.24642176 -0.31782972  0.15338268  0.26828852]\n",
      "T1a = [ 0.11030688  0.14594766  0.40262935  0.54267904  0.58499113]\n",
      "T2a = [ 0.12284019  0.22494353  0.42422031  0.57947665  0.99980102]\n",
      "{'a': 0.9291582895114076, 'Aa': array([ 0.49585989, -0.24642176, -0.31782972,  0.15338268,  0.26828852]), 'b': 1.7880666774106357, 'T1a': array([ 0.11030688,  0.14594766,  0.40262935,  0.54267904,  0.58499113]), 'I': 7, 'T2a': array([ 0.12284019,  0.22494353,  0.42422031,  0.57947665,  0.99980102]), 'J': 5, 'Ap': array([ 0.20011163, -0.3189426 , -0.15010626, -0.48692974,  0.0732133 ,\n",
      "       -0.16416649, -0.21040146]), 'Fb': 35.89794332857998, 'T0p': array([ 0.03801116,  0.26775698,  0.28133629,  0.61619121,  0.64329088,\n",
      "        0.69443884,  0.8436923 ]), 'y': 0.6088535817013825}\n"
     ]
    }
   ],
   "source": [
    "from fujisaki_utils import generate_fujisaki_params\n",
    "import fujisaki_utils\n",
    "p = generate_fujisaki_params(max_Fb=50.0)\n",
    "print p"
   ]
  },
  {
   "cell_type": "code",
   "execution_count": 2,
   "metadata": {
    "collapsed": true
   },
   "outputs": [],
   "source": []
  },
  {
   "cell_type": "code",
   "execution_count": 24,
   "metadata": {
    "collapsed": true
   },
   "outputs": [],
   "source": [
    "%matplotlib inline"
   ]
  },
  {
   "cell_type": "code",
   "execution_count": 3,
   "metadata": {
    "collapsed": true
   },
   "outputs": [],
   "source": [
    "import matplotlib.pyplot as plt\n",
    "import numpy as np"
   ]
  },
  {
   "cell_type": "code",
   "execution_count": 26,
   "metadata": {
    "collapsed": true
   },
   "outputs": [],
   "source": [
    "generate_fujisaki_curve(True, 5.0, 20000, p)"
   ]
  },
  {
   "cell_type": "code",
   "execution_count": 4,
   "metadata": {
    "collapsed": false
   },
   "outputs": [
    {
     "data": {
      "text/plain": [
       "[<matplotlib.lines.Line2D at 0x749e860>]"
      ]
     },
     "execution_count": 4,
     "metadata": {},
     "output_type": "execute_result"
    },
    {
     "data": {
      "image/png": "[encoded data removed]",
      "text/plain": [
       "<matplotlib.figure.Figure at 0x73804a8>"
      ]
     },
     "metadata": {},
     "output_type": "display_data"
    }
   ],
   "source": [
    "x = np.linspace(0, 3*np.pi, 500)\n",
    "y = np.sin(x**2)\n",
    "plt.plot(x, y)"
   ]
  },
  {
   "cell_type": "markdown",
   "metadata": {},
   "source": []
  }
 ],
 "metadata": {
  "kernelspec": {
   "display_name": "Python 2",
   "language": "python",
   "name": "python2"
  },
  "language_info": {
   "codemirror_mode": {
    "name": "ipython",
    "version": 2
   },
   "file_extension": ".py",
   "mimetype": "text/x-python",
   "name": "python",
   "nbconvert_exporter": "python",
   "pygments_lexer": "ipython2",
   "version": "2.7.13"
  }
 },
 "nbformat": 4,
 "nbformat_minor": 0
}
