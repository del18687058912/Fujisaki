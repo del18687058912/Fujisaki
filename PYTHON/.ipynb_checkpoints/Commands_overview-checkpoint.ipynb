{
 "cells": [
  {
   "cell_type": "code",
   "execution_count": 14,
   "metadata": {
    "collapsed": true
   },
   "outputs": [],
   "source": [
    "import fujisaki_model\n",
    "from matplotlib import pyplot as plt\n",
    "import numpy as np\n",
    "\n",
    "t = np.linspace(0.0, 30.0, 300)\n",
    "list_a = np.linspace(0.0, 20.0, num=50)\n",
    "Gp = [[a**2*ti*np.exp(-a*ti) for a in list_a] for ti in t]\n",
    "#for a in list_a:\n",
    "#    Gp = a**2*t*np.exp(-a*t) \n",
    "plt.autoscale()\n",
    "plt.plot(Gp)\n",
    "plt.show()"
   ]
  },
  {
   "cell_type": "code",
   "execution_count": null,
   "metadata": {
    "collapsed": true
   },
   "outputs": [],
   "source": []
  }
 ],
 "metadata": {
  "kernelspec": {
   "display_name": "Python 2",
   "language": "python",
   "name": "python2"
  },
  "language_info": {
   "codemirror_mode": {
    "name": "ipython",
    "version": 2
   },
   "file_extension": ".py",
   "mimetype": "text/x-python",
   "name": "python",
   "nbconvert_exporter": "python",
   "pygments_lexer": "ipython2",
   "version": "2.7.13"
  }
 },
 "nbformat": 4,
 "nbformat_minor": 0
}
