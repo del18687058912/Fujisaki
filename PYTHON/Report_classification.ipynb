{
 "cells": [
  {
   "cell_type": "markdown",
   "metadata": {
    "collapsed": true
   },
   "source": [
    "# Feature Engineering and Classification"
   ]
  },
  {
   "cell_type": "markdown",
   "metadata": {},
   "source": [
    "## Explore data"
   ]
  },
  {
   "cell_type": "code",
   "execution_count": 101,
   "metadata": {
    "collapsed": false
   },
   "outputs": [
    {
     "name": "stdout",
     "output_type": "stream",
     "text": [
      "Data loaded successfully\n",
      "       name          Fb       a     Ap0     Ap1  Ap2    T0p0    T0p1  T0p2  \\\n",
      "0  s17_an_2  118.649590  2.1579  0.0211  0.3876  NaN  0.5800  2.7733   NaN   \n",
      "1  s17_an_3  141.798721  1.6316  0.1423     NaN  NaN  0.1500     NaN   NaN   \n",
      "2  s28_ha_2  256.279205  1.3158  0.5188     NaN  NaN -0.1400     NaN   NaN   \n",
      "3  s28_ha_3  154.309219  2.0526  0.7094     NaN  NaN -0.1700     NaN   NaN   \n",
      "4  s28_ha_4  116.936386  2.8947  0.6718     NaN  NaN  0.1345     NaN   NaN   \n",
      "5  s28_ha_5  180.134308  3.0000  0.5046     NaN  NaN  0.2167     NaN   NaN   \n",
      "6  s17_an_4  129.622879  2.7895  0.0055  0.2703  NaN -0.3000  1.1858   NaN   \n",
      "7  s17_an_5  124.891998  3.0000  0.0000  0.1536  NaN -0.0600  0.9396   NaN   \n",
      "8  s31_ha_2  203.911011  3.0000  0.1322  0.0586  NaN  0.6867  2.8767   NaN   \n",
      "9  s31_ha_3  186.932251  2.7895  0.0809  0.0938  NaN  1.2300  2.6715   NaN   \n",
      "\n",
      "      Aa0  ...      T2a2    T2a3    T2a4    T2a5    T2a6    T2a7  T2a8  T2a9  \\\n",
      "0  0.1942  ...    2.1700  2.5275  2.7750  3.7097  3.8325  4.0671   NaN   NaN   \n",
      "1  0.3880  ...    1.3872  1.9475  2.3300     NaN     NaN     NaN   NaN   NaN   \n",
      "2  0.1985  ...    1.1800  1.7675  1.9500     NaN     NaN     NaN   NaN   NaN   \n",
      "3  0.0813  ...    1.1699  1.4146  1.6786     NaN     NaN     NaN   NaN   NaN   \n",
      "4  0.3225  ...    1.2300     NaN     NaN     NaN     NaN     NaN   NaN   NaN   \n",
      "5  0.3530  ...    1.1400     NaN     NaN     NaN     NaN     NaN   NaN   NaN   \n",
      "6  0.3514  ...    1.7225  1.8669  2.2301  2.5263  2.6387     NaN   NaN   NaN   \n",
      "7  0.3245  ...    1.1669  1.3650  1.6113  2.1095  2.4963  2.7338  3.22   NaN   \n",
      "8  0.1543  ...    1.8800  2.7475  3.0375  3.3225  3.5100  3.7325   NaN   NaN   \n",
      "9  0.0360  ...    2.9238  3.2637  3.5216     NaN     NaN     NaN   NaN   NaN   \n",
      "\n",
      "   T2a10  T2a11  \n",
      "0    NaN    NaN  \n",
      "1    NaN    NaN  \n",
      "2    NaN    NaN  \n",
      "3    NaN    NaN  \n",
      "4    NaN    NaN  \n",
      "5    NaN    NaN  \n",
      "6    NaN    NaN  \n",
      "7    NaN    NaN  \n",
      "8    NaN    NaN  \n",
      "9    NaN    NaN  \n",
      "\n",
      "[10 rows x 45 columns]\n"
     ]
    }
   ],
   "source": [
    "import pandas as pd\n",
    "import utils\n",
    "directory = r'C:\\Users\\s3628075\\Study\\Fujisaki\\DataBase\\enterface\\All/'\n",
    "data = pd.DataFrame(utils.load_obj(directory+'fuj_params_data.pkl'))\n",
    "print 'Data loaded successfully'\n",
    "print data.head(10)"
   ]
  },
  {
   "cell_type": "markdown",
   "metadata": {},
   "source": [
    "As we can see our data is significantly sparse (a lot of missing data)"
   ]
  },
  {
   "cell_type": "markdown",
   "metadata": {},
   "source": [
    "## Filter data (throw away non-significant features)"
   ]
  },
  {
   "cell_type": "code",
   "execution_count": 102,
   "metadata": {
    "collapsed": false
   },
   "outputs": [
    {
     "name": "stdout",
     "output_type": "stream",
     "text": [
      "Selected Features:  ['Aa0', 'Aa2', 'Aa3', 'Aa1', 'Aa4', 'Fb', 'Aa5', 'Ap0', 'T2a3', 'T1a3', 'T2a2', 'T2a4', 'T2a6', 'T2a0']\n",
      "\n",
      "Filtered Data:\n",
      "\n",
      "      Aa0     Aa2     Aa3     Aa1     Aa4          Fb     Aa5     Ap0    T2a3  \\\n",
      "0  0.1942 -0.0562  0.1745  0.3262  0.2202  118.649590  0.2822  0.0211  2.5275   \n",
      "1  0.3880  0.3880 -0.1187  0.1876  0.2485  141.798721     NaN  0.1423  1.9475   \n",
      "2  0.1985  0.1985  0.3110  0.1753  0.2343  256.279205     NaN  0.5188  1.7675   \n",
      "3  0.0813  0.5476  0.5281  0.5925  0.3185  154.309219     NaN  0.7094  1.4146   \n",
      "4  0.3225  0.6153     NaN  0.3465     NaN  116.936386     NaN  0.6718     NaN   \n",
      "5  0.3530  0.3654     NaN  0.6187     NaN  180.134308     NaN  0.5046     NaN   \n",
      "6  0.3514  0.0711  0.0801  0.3513  0.2907  129.622879  0.6366  0.0055  1.8669   \n",
      "7  0.3245  0.1576  0.1698  0.2426  0.3171  124.891998  0.2355  0.0000  1.3650   \n",
      "8  0.1543  0.2398  0.0892  0.1358  0.1765  203.911011  0.0678  0.1322  2.7475   \n",
      "9  0.0360  0.1060  0.2097 -0.1156  0.1536  186.932251     NaN  0.0809  3.2637   \n",
      "\n",
      "     T1a3    T2a2    T2a4    T2a6    T2a0      name  \n",
      "0  2.3677  2.1700  2.7750  3.8325  1.4211  s17_an_2  \n",
      "1  1.4472  1.3872  2.3300     NaN  0.7765  s17_an_3  \n",
      "2  1.6100  1.1800  1.9500     NaN  0.5900  s28_ha_2  \n",
      "3  1.1836  1.1699  1.6786     NaN  0.3950  s28_ha_3  \n",
      "4     NaN  1.2300     NaN     NaN  0.6550  s28_ha_4  \n",
      "5     NaN  1.1400     NaN     NaN  0.7688  s28_ha_5  \n",
      "6  1.7872  1.7225  2.2301  2.6387  0.7788  s17_an_4  \n",
      "7  1.1906  1.1669  1.6113  2.4963  0.6541  s17_an_5  \n",
      "8  2.6400  1.8800  3.0375  3.5100  1.2500  s31_ha_2  \n",
      "9  3.0501  2.9238  3.5216     NaN  1.8188  s31_ha_3  \n"
     ]
    }
   ],
   "source": [
    "import stat_utils as st\n",
    "anova = st.calc_anova(directory, verbose=False)\n",
    "\n",
    "import operator\n",
    "import matplotlib.pyplot as plt\n",
    "params, anova_res = zip(*sorted(anova.items(), key=operator.itemgetter(1)))\n",
    "\n",
    "thresh = 0.05\n",
    "# take those parameters with p-values less than thresh=0.05\n",
    "Idx = [ind for ind in range(len(anova_res)) if anova_res[ind] < thresh]\n",
    "selected_features = [params[i] for i in Idx]\n",
    "print 'Selected Features: ', selected_features\n",
    "\n",
    "filtered_data = data[selected_features+['name']]\n",
    "print '\\nFiltered Data:\\n\\n',filtered_data.head(10)"
   ]
  },
  {
   "cell_type": "markdown",
   "metadata": {},
   "source": [
    "## Explore sparsness of filtered data"
   ]
  },
  {
   "cell_type": "code",
   "execution_count": 103,
   "metadata": {
    "collapsed": false
   },
   "outputs": [
    {
     "data": {
      "image/png": "[encoded data removed]",
      "text/plain": [
       "<matplotlib.figure.Figure at 0xb7861d0>"
      ]
     },
     "metadata": {},
     "output_type": "display_data"
    }
   ],
   "source": [
    "import pandas as pd\n",
    "import operator\n",
    "import numpy as np\n",
    "%matplotlib inline\n",
    "nan_fraction = {}\n",
    "for c in list(filtered_data):\n",
    "    nan_idx = pd.isnull(data[c])\n",
    "    nan_fraction[c]=float(sum(nan_idx))/len(filtered_data)\n",
    "params, fractions = zip(*sorted(nan_fraction.items(), key=operator.itemgetter(1)))\n",
    "# take first 30 parameters\n",
    "split = len(list(filtered_data))\n",
    "left = np.arange(split)\n",
    "fig, ax = plt.subplots(figsize=(18,5))\n",
    "width = 0.5\n",
    "ax.bar(left, fractions[:split], width, alpha = 0.3)\n",
    "# add some text for labels, title and axes ticks\n",
    "ax.set_ylabel('Sparsness')\n",
    "ax.set_title('Sparsness of data by significant features')\n",
    "ax.set_xticks(left + width / 2)\n",
    "ax.set_xticklabels(params[:split])\n",
    "plt.show()"
   ]
  },
  {
   "cell_type": "markdown",
   "metadata": {},
   "source": [
    "## Handling missing data"
   ]
  },
  {
   "cell_type": "code",
   "execution_count": 104,
   "metadata": {
    "collapsed": false
   },
   "outputs": [],
   "source": [
    "data = filtered_data\n",
    "names = data.pop('name')"
   ]
  },
  {
   "cell_type": "markdown",
   "metadata": {},
   "source": [
    "### Removing feature/data trade-off"
   ]
  },
  {
   "cell_type": "code",
   "execution_count": 108,
   "metadata": {
    "collapsed": false
   },
   "outputs": [
    {
     "name": "stdout",
     "output_type": "stream",
     "text": [
      "Num of data points left:  1161\n",
      "Features left:  ['Aa0', 'Aa2', 'Aa3', 'Aa1', 'Aa4', 'Fb', 'Aa5', 'Ap0', 'T2a3', 'T1a3', 'T2a2', 'T2a4', 'T2a6', 'T2a0']\n",
      "      Aa0     Aa2       Aa3     Aa1       Aa4          Fb       Aa5     Ap0  \\\n",
      "0  0.1942 -0.0562  0.174500  0.3262  0.220200  118.649590  0.282200  0.0211   \n",
      "1  0.3880  0.3880 -0.118700  0.1876  0.248500  141.798721  0.283376  0.1423   \n",
      "2  0.1985  0.1985  0.311000  0.1753  0.234300  256.279205  0.283376  0.5188   \n",
      "3  0.0813  0.5476  0.528100  0.5925  0.318500  154.309219  0.283376  0.7094   \n",
      "4  0.3225  0.6153  0.654608  0.3465  0.463394  116.936386  0.283376  0.6718   \n",
      "5  0.3530  0.3654  0.654608  0.6187  0.463394  180.134308  0.283376  0.5046   \n",
      "6  0.3514  0.0711  0.080100  0.3513  0.290700  129.622879  0.636600  0.0055   \n",
      "7  0.3245  0.1576  0.169800  0.2426  0.317100  124.891998  0.235500  0.0000   \n",
      "8  0.1543  0.2398  0.089200  0.1358  0.176500  203.911011  0.067800  0.1322   \n",
      "9  0.0360  0.1060  0.209700 -0.1156  0.153600  186.932251  0.283376  0.0809   \n",
      "\n",
      "       T2a3      T1a3    T2a2      T2a4      T2a6    T2a0  \n",
      "0  2.527500  2.367700  2.1700  2.775000  3.832500  1.4211  \n",
      "1  1.947500  1.447200  1.3872  2.330000  0.152455  0.7765  \n",
      "2  1.767500  1.610000  1.1800  1.950000  0.152455  0.5900  \n",
      "3  1.414600  1.183600  1.1699  1.678600  0.152455  0.3950  \n",
      "4  0.654608  0.654608  1.2300  0.463394  0.152455  0.6550  \n",
      "5  0.654608  0.654608  1.1400  0.463394  0.152455  0.7688  \n",
      "6  1.866900  1.787200  1.7225  2.230100  2.638700  0.7788  \n",
      "7  1.365000  1.190600  1.1669  1.611300  2.496300  0.6541  \n",
      "8  2.747500  2.640000  1.8800  3.037500  3.510000  1.2500  \n",
      "9  3.263700  3.050100  2.9238  3.521600  0.152455  1.8188  \n"
     ]
    }
   ],
   "source": [
    "filtered_data = data\n",
    "# Goal is to get rid of missing data by removing rows or cols\n",
    "# Still want to maximize amount of data left\n",
    "# iterate through features and find the loss of removing column vs removing all rows where this feature is missed \n",
    "for c in list(filtered_data):\n",
    "    nan_idx = pd.isnull(filtered_data[c])\n",
    "    loss_col = sum(pd.notnull(filtered_data[c]))\n",
    "    if loss_col == len(filtered_data):\n",
    "        continue\n",
    "#   calc loss of removing all rows with missing data in this feature\n",
    "    loss_rows = sum(sum(pd.notnull(filtered_data[nan_idx].values)))\n",
    "    if loss_col < loss_rows:\n",
    "        del filtered_data[c]\n",
    "    else:\n",
    "        filtered_data = filtered_data[filtered_data[c].notnull()]\n",
    "print 'Num of data points left: ',len(filtered_data)\n",
    "print 'Features left: ', list(filtered_data)\n",
    "print filtered_data.head(10)\n",
    "i, _ = zip(*filtered_data.iterrows())\n",
    "filtered_names = [names[idx] for idx in i]"
   ]
  },
  {
   "cell_type": "markdown",
   "metadata": {
    "collapsed": true
   },
   "source": [
    "### Imputation of missing data with mean values"
   ]
  },
  {
   "cell_type": "code",
   "execution_count": 107,
   "metadata": {
    "collapsed": false
   },
   "outputs": [
    {
     "name": "stdout",
     "output_type": "stream",
     "text": [
      "      Aa0     Aa2       Aa3     Aa1       Aa4          Fb       Aa5     Ap0  \\\n",
      "0  0.1942 -0.0562  0.174500  0.3262  0.220200  118.649590  0.282200  0.0211   \n",
      "1  0.3880  0.3880 -0.118700  0.1876  0.248500  141.798721  0.283376  0.1423   \n",
      "2  0.1985  0.1985  0.311000  0.1753  0.234300  256.279205  0.283376  0.5188   \n",
      "3  0.0813  0.5476  0.528100  0.5925  0.318500  154.309219  0.283376  0.7094   \n",
      "4  0.3225  0.6153  0.654608  0.3465  0.463394  116.936386  0.283376  0.6718   \n",
      "5  0.3530  0.3654  0.654608  0.6187  0.463394  180.134308  0.283376  0.5046   \n",
      "6  0.3514  0.0711  0.080100  0.3513  0.290700  129.622879  0.636600  0.0055   \n",
      "7  0.3245  0.1576  0.169800  0.2426  0.317100  124.891998  0.235500  0.0000   \n",
      "8  0.1543  0.2398  0.089200  0.1358  0.176500  203.911011  0.067800  0.1322   \n",
      "9  0.0360  0.1060  0.209700 -0.1156  0.153600  186.932251  0.283376  0.0809   \n",
      "\n",
      "       T2a3      T1a3    T2a2      T2a4      T2a6    T2a0  \n",
      "0  2.527500  2.367700  2.1700  2.775000  3.832500  1.4211  \n",
      "1  1.947500  1.447200  1.3872  2.330000  0.152455  0.7765  \n",
      "2  1.767500  1.610000  1.1800  1.950000  0.152455  0.5900  \n",
      "3  1.414600  1.183600  1.1699  1.678600  0.152455  0.3950  \n",
      "4  0.654608  0.654608  1.2300  0.463394  0.152455  0.6550  \n",
      "5  0.654608  0.654608  1.1400  0.463394  0.152455  0.7688  \n",
      "6  1.866900  1.787200  1.7225  2.230100  2.638700  0.7788  \n",
      "7  1.365000  1.190600  1.1669  1.611300  2.496300  0.6541  \n",
      "8  2.747500  2.640000  1.8800  3.037500  3.510000  1.2500  \n",
      "9  3.263700  3.050100  2.9238  3.521600  0.152455  1.8188  \n"
     ]
    }
   ],
   "source": [
    "imp_data = data\n",
    "for c in list(imp_data):\n",
    "    \n",
    "    nan_idx = pd.isnull(imp_data[c])\n",
    "    m = imp_data[c].notnull().mean()\n",
    "    imp_data[c][nan_idx]=m\n",
    "print imp_data.head(10)\n",
    "imp_names = names"
   ]
  },
  {
   "cell_type": "markdown",
   "metadata": {},
   "source": [
    "## Classification"
   ]
  },
  {
   "cell_type": "code",
   "execution_count": null,
   "metadata": {
    "collapsed": true
   },
   "outputs": [],
   "source": []
  }
 ],
 "metadata": {
  "kernelspec": {
   "display_name": "Python 2",
   "language": "python",
   "name": "python2"
  },
  "language_info": {
   "codemirror_mode": {
    "name": "ipython",
    "version": 2
   },
   "file_extension": ".py",
   "mimetype": "text/x-python",
   "name": "python",
   "nbconvert_exporter": "python",
   "pygments_lexer": "ipython2",
   "version": "2.7.13"
  }
 },
 "nbformat": 4,
 "nbformat_minor": 0
}
